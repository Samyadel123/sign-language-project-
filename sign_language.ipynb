{
  "nbformat": 4,
  "nbformat_minor": 0,
  "metadata": {
    "colab": {
      "provenance": [],
      "authorship_tag": "ABX9TyMdAFEPTQ2xu2MdVj9BnEil",
      "include_colab_link": true
    },
    "kernelspec": {
      "name": "python3",
      "display_name": "Python 3"
    },
    "language_info": {
      "name": "python"
    }
  },
  "cells": [
    {
      "cell_type": "markdown",
      "metadata": {
        "id": "view-in-github",
        "colab_type": "text"
      },
      "source": [
        "<a href=\"https://colab.research.google.com/github/Samyadel123/sign-language-project-/blob/main/sign_language.ipynb\" target=\"_parent\"><img src=\"https://colab.research.google.com/assets/colab-badge.svg\" alt=\"Open In Colab\"/></a>"
      ]
    },
    {
      "cell_type": "code",
      "source": [
        "!git clone https://github.com/dxli94/WLASL.git"
      ],
      "metadata": {
        "colab": {
          "base_uri": "https://localhost:8080/"
        },
        "id": "6pvSKB0BPT83",
        "outputId": "d49f3a00-1fc0-4ae3-ffcb-e3a8b88b9a7b"
      },
      "execution_count": null,
      "outputs": [
        {
          "output_type": "stream",
          "name": "stdout",
          "text": [
            "fatal: destination path 'WLASL' already exists and is not an empty directory.\n"
          ]
        }
      ]
    },
    {
      "cell_type": "code",
      "source": [
        "!sudo wget https://yt-dl.org/downloads/latest/youtube-dl -O /usr/local/bin/youtube-dl"
      ],
      "metadata": {
        "colab": {
          "base_uri": "https://localhost:8080/"
        },
        "id": "VUPwvYpdP8iY",
        "outputId": "c9bac494-0240-4e63-b989-f4a5653591db"
      },
      "execution_count": null,
      "outputs": [
        {
          "output_type": "stream",
          "name": "stdout",
          "text": [
            "--2025-09-30 15:39:17--  https://yt-dl.org/downloads/latest/youtube-dl\n",
            "Resolving yt-dl.org (yt-dl.org)... 103.168.172.37, 103.168.172.52\n",
            "Connecting to yt-dl.org (yt-dl.org)|103.168.172.37|:443... connected.\n",
            "HTTP request sent, awaiting response... 302 Found\n",
            "Location: https://github.com/yt-dlp/yt-dlp/downloads/latest/youtube-dl [following]\n",
            "--2025-09-30 15:39:17--  https://github.com/yt-dlp/yt-dlp/downloads/latest/youtube-dl\n",
            "Resolving github.com (github.com)... 140.82.113.4\n",
            "Connecting to github.com (github.com)|140.82.113.4|:443... connected.\n",
            "HTTP request sent, awaiting response... 404 Not Found\n",
            "2025-09-30 15:39:17 ERROR 404: Not Found.\n",
            "\n"
          ]
        }
      ]
    },
    {
      "cell_type": "code",
      "source": [
        "!sudo chmod a+rx /usr/local/bin/youtube-dl"
      ],
      "metadata": {
        "id": "gN7AAtZnQPtK"
      },
      "execution_count": null,
      "outputs": []
    },
    {
      "cell_type": "code",
      "source": [
        "!cd WLASL/start_kit/"
      ],
      "metadata": {
        "id": "f_D8jl3XQRSJ"
      },
      "execution_count": null,
      "outputs": []
    },
    {
      "cell_type": "code",
      "source": [
        "!python3 video_downloader.py"
      ],
      "metadata": {
        "colab": {
          "base_uri": "https://localhost:8080/"
        },
        "id": "--DijZ36QgB1",
        "outputId": "37b02e8c-95f6-4b42-8453-19279c664c3e"
      },
      "execution_count": null,
      "outputs": [
        {
          "output_type": "stream",
          "name": "stdout",
          "text": [
            "python3: can't open file '/content/video_downloader.py': [Errno 2] No such file or directory\n"
          ]
        }
      ]
    },
    {
      "cell_type": "code",
      "source": [
        "!cd WLASL/start_kit/"
      ],
      "metadata": {
        "id": "fNf8LhVzQp5e"
      },
      "execution_count": null,
      "outputs": []
    },
    {
      "cell_type": "code",
      "source": [
        "!python3 WLASL/start_kit/video_downloader.py"
      ],
      "metadata": {
        "colab": {
          "base_uri": "https://localhost:8080/"
        },
        "id": "yPuxml0qRAw0",
        "outputId": "0b56fcc6-42c1-4159-8ef2-e1947e69287e"
      },
      "execution_count": null,
      "outputs": [
        {
          "output_type": "stream",
          "name": "stdout",
          "text": [
            "Start downloading non-youtube videos.\n",
            "Traceback (most recent call last):\n",
            "  File \"/content/WLASL/start_kit/video_downloader.py\", line 148, in <module>\n",
            "    download_nonyt_videos('WLASL_v0.3.json')\n",
            "  File \"/content/WLASL/start_kit/video_downloader.py\", line 78, in download_nonyt_videos\n",
            "    content = json.load(open(indexfile))\n",
            "                        ^^^^^^^^^^^^^^^\n",
            "FileNotFoundError: [Errno 2] No such file or directory: 'WLASL_v0.3.json'\n"
          ]
        }
      ]
    }
  ]
}